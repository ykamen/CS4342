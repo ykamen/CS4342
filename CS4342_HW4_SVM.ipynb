{
  "nbformat": 4,
  "nbformat_minor": 0,
  "metadata": {
    "colab": {
      "name": "CS4342_HW4_SVM.ipynb",
      "provenance": [],
      "authorship_tag": "ABX9TyMmQjJnZtVNYCKGoaxmn3qJ",
      "include_colab_link": true
    },
    "kernelspec": {
      "name": "python3",
      "display_name": "Python 3"
    },
    "language_info": {
      "name": "python"
    }
  },
  "cells": [
    {
      "cell_type": "markdown",
      "metadata": {
        "id": "view-in-github",
        "colab_type": "text"
      },
      "source": [
        "<a href=\"https://colab.research.google.com/github/ykamen/CS4342/blob/main/CS4342_HW4_SVM.ipynb\" target=\"_parent\"><img src=\"https://colab.research.google.com/assets/colab-badge.svg\" alt=\"Open In Colab\"/></a>"
      ]
    },
    {
      "cell_type": "code",
      "execution_count": 2,
      "metadata": {
        "id": "5LE7YWL0ox-i"
      },
      "outputs": [],
      "source": [
        "from cvxopt import solvers, matrix\n",
        "import numpy as np\n",
        "import sklearn.svm\n",
        "from google.colab import drive\n",
        "import matplotlib.pyplot as plt"
      ]
    },
    {
      "cell_type": "code",
      "source": [
        "drive.mount('/content/drive')"
      ],
      "metadata": {
        "colab": {
          "base_uri": "https://localhost:8080/"
        },
        "id": "rgjsSGUwpOLo",
        "outputId": "9e176852-70de-4ced-9e96-9ea7cfeaafae"
      },
      "execution_count": 3,
      "outputs": [
        {
          "output_type": "stream",
          "name": "stdout",
          "text": [
            "Mounted at /content/drive\n"
          ]
        }
      ]
    },
    {
      "cell_type": "code",
      "source": [
        "X = np.load('drive/MyDrive/hw4_X.npy', 'r')\n",
        "y = np.load('drive/MyDrive/hw4_y.npy', 'r')"
      ],
      "metadata": {
        "id": "gjz-6E7qpRKt",
        "colab": {
          "base_uri": "https://localhost:8080/"
        },
        "outputId": "3fdf769a-3e8a-4134-f41e-20b8350d693a"
      },
      "execution_count": 54,
      "outputs": [
        {
          "output_type": "stream",
          "name": "stdout",
          "text": [
            "(2, 10)\n",
            "(10,)\n"
          ]
        }
      ]
    },
    {
      "cell_type": "code",
      "source": [
        "n = X.shape[1]//2\n",
        "\n",
        "x = np.arange(-8, +8, 0.01)\n",
        "plt.scatter(X[0,0:n], X[1,0:n])\n",
        "plt.scatter(X[0,n:], X[1,n:])"
      ],
      "metadata": {
        "colab": {
          "base_uri": "https://localhost:8080/",
          "height": 282
        },
        "id": "8ydAXX6zpeis",
        "outputId": "ce95a084-5f98-41ed-c710-e8cb2c001b85"
      },
      "execution_count": 5,
      "outputs": [
        {
          "output_type": "execute_result",
          "data": {
            "text/plain": [
              "<matplotlib.collections.PathCollection at 0x7f3c2b45ef50>"
            ]
          },
          "metadata": {},
          "execution_count": 5
        },
        {
          "output_type": "display_data",
          "data": {
            "text/plain": [
              "<Figure size 432x288 with 1 Axes>"
            ],
            "image/png": "[encoded data removed]"
          },
          "metadata": {
            "needs_background": "light"
          }
        }
      ]
    },
    {
      "cell_type": "markdown",
      "source": [
        "Hyperplane 1 : perpendicular to [0,1]"
      ],
      "metadata": {
        "id": "Y3HJILUVqcE_"
      }
    },
    {
      "cell_type": "code",
      "source": [
        "plt.scatter(X[0,0:n], X[1,0:n])\n",
        "plt.scatter(X[0,n:], X[1,n:])\n",
        "\n",
        "# w = [0,1]\n",
        "# v = cw\n",
        "# c = ?\n",
        "# p1 = [0,0]\n",
        "# p2 = [-6,-3]\n",
        "# xt*cw + b = 1 , -1\n",
        "# [0,0][0,1]c+b = 1\n",
        "# [-6,-3][0,1]c+b = -1\n",
        "# b = 1\n",
        "# -3c + 1 = -1\n",
        "# c = 2/3\n",
        "# v = [0,2/3]\n",
        "# H0:\n",
        "# xt[0,2/3]+1 = 0\n",
        "# 0*x1 + 2/3*x2 + 1 = 0\n",
        "# x2 = x*0 - 3/2\n",
        "# H+:\n",
        "# xt[0,2/3]+2 = 0\n",
        "# 2/3*x2 + 2 = 0\n",
        "# x2 = x*0 - 3\n",
        "# H-:\n",
        "# xt[0,2/3] = 0\n",
        "# x2 = x*0 - 0\n",
        "\n",
        "plt.plot(x, x*0-3/2, 'k-')\n",
        "plt.plot(x, x*0-3, 'k--')\n",
        "plt.plot(x, x*0, 'k:')\n",
        "\n",
        "plt.show()"
      ],
      "metadata": {
        "id": "uUFPki1Cqg-o",
        "colab": {
          "base_uri": "https://localhost:8080/",
          "height": 265
        },
        "outputId": "6f6480e0-0fef-45cb-efc1-edccda60fd0e"
      },
      "execution_count": 43,
      "outputs": [
        {
          "output_type": "display_data",
          "data": {
            "text/plain": [
              "<Figure size 432x288 with 1 Axes>"
            ],
            "image/png": "[encoded data removed]"
          },
          "metadata": {
            "needs_background": "light"
          }
        }
      ]
    },
    {
      "cell_type": "code",
      "source": [
        "plt.scatter(X[0,0:n], X[1,0:n])\n",
        "plt.scatter(X[0,n:], X[1,n:])\n",
        "\n",
        "# w = [-.3,1]\n",
        "# v = cw\n",
        "# p+ = [5,1]\n",
        "# p- = [-6,-3]\n",
        "# c = ?\n",
        "\n",
        "# xt*cw + b = 1 , -1\n",
        "\n",
        "# H+: \n",
        "# [5,1][-.3,1]c+b = 1\n",
        "# -.5c + b = 1\n",
        "\n",
        "# H-: \n",
        "# [-6,-3][-.3,1]c+b = -1\n",
        "# -1.2c + b = -1\n",
        "\n",
        "# .7c = 2\n",
        "# c = 2/.7\n",
        "# c = 20/7\n",
        "\n",
        "# b = 1 + 1/2(20/7)\n",
        "# b = 17/7\n",
        "\n",
        "w1 = 20/7*(-.3)\n",
        "w2 = 20/7*1\n",
        "b = 17/7\n",
        "\n",
        "# H0:\n",
        "# x2 = (-b-w1*x)/w2\n",
        "\n",
        "# H+:\n",
        "# x2 = (-b-1-w1*x)/w2\n",
        "\n",
        "# H-:\n",
        "# x2 = (-b+1-w1*x)/w2\n",
        "\n",
        "plt.plot(x, (-b-w1*x)/w2, 'k-')\n",
        "plt.plot(x, (-b-1-w1*x)/w2, 'k--')\n",
        "plt.plot(x, (-b+1-w1*x)/w2, 'k:')"
      ],
      "metadata": {
        "colab": {
          "base_uri": "https://localhost:8080/",
          "height": 282
        },
        "id": "kKuooQZR7O4Q",
        "outputId": "ccf92621-4bf4-45df-d9fc-01ea30323385"
      },
      "execution_count": 49,
      "outputs": [
        {
          "output_type": "execute_result",
          "data": {
            "text/plain": [
              "[<matplotlib.lines.Line2D at 0x7f3c21bb80d0>]"
            ]
          },
          "metadata": {},
          "execution_count": 49
        },
        {
          "output_type": "display_data",
          "data": {
            "text/plain": [
              "<Figure size 432x288 with 1 Axes>"
            ],
            "image/png": "[encoded data removed]"
          },
          "metadata": {
            "needs_background": "light"
          }
        }
      ]
    },
    {
      "cell_type": "code",
      "source": [
        "plt.scatter(X[0,0:n], X[1,0:n])\n",
        "plt.scatter(X[0,n:], X[1,n:])\n",
        "\n",
        "svm = sklearn.svm.SVC(kernel='linear', C=1e15)  # 1e15 -- approximate hard-margin\n",
        "svm.fit(X.T, y)\n",
        "print(svm.coef_, svm.intercept_)\n",
        "w1 = svm.coef_[0,0]\n",
        "w2 = svm.coef_[0,1]\n",
        "b = svm.intercept_\n",
        "\n",
        "plt.plot(x, (-b-w1*x)/w2, 'k-')\n",
        "plt.plot(x, (-b-1-w1*x)/w2, 'k--')\n",
        "plt.plot(x, (-b+1-w1*x)/w2, 'k:')"
      ],
      "metadata": {
        "colab": {
          "base_uri": "https://localhost:8080/",
          "height": 300
        },
        "id": "QFQgRKHb6bh5",
        "outputId": "e617ac52-5760-4cc2-ac98-613b8cf65c02"
      },
      "execution_count": 61,
      "outputs": [
        {
          "output_type": "stream",
          "name": "stdout",
          "text": [
            "[[0.12123284 0.42420099]] [0.99992404]\n"
          ]
        },
        {
          "output_type": "execute_result",
          "data": {
            "text/plain": [
              "[<matplotlib.lines.Line2D at 0x7f3c219e1410>]"
            ]
          },
          "metadata": {},
          "execution_count": 61
        },
        {
          "output_type": "display_data",
          "data": {
            "text/plain": [
              "<Figure size 432x288 with 1 Axes>"
            ],
            "image/png": "[encoded data removed]"
          },
          "metadata": {
            "needs_background": "light"
          }
        }
      ]
    },
    {
      "cell_type": "code",
      "source": [
        "class SVM4342 ():\n",
        "    def __init__ (self):\n",
        "        pass\n",
        "\n",
        "    # Expects each *row* to be an m-dimensional row vector. X should\n",
        "    # contain n rows, where n is the number of examples.\n",
        "    # y should correspondingly be an n-vector of labels (-1 or +1).\n",
        "    def fit (self, X, y):\n",
        "        # TODO change these -- they should be np.arrays representing matrices or vectors\n",
        "        G = 0\n",
        "        h = 0\n",
        "        P = 0\n",
        "        q = 0\n",
        "\n",
        "        # Solve -- if the variables above are defined correctly, you can call this as-is:\n",
        "        sol = solvers.qp(matrix(P, tc='d'), matrix(q, tc='d'), matrix(G, tc='d'), matrix(h, tc='d'))\n",
        "\n",
        "        # Fetch the learned hyperplane and bias parameters out of sol['x']\n",
        "        # To avoid any annoying errors due to broadcasting issues, I recommend\n",
        "        # that you flatten() the w you retrieve from the solution vector so that\n",
        "        # it becomes a 1-D np.array.\n",
        "        \n",
        "        self.w = 0  # TODO change this\n",
        "        self.b = 0  # TODO change this\n",
        "\n",
        "    # Given a 2-D matrix of examples X, output a vector of predicted class labels\n",
        "    def predict (self, x):\n",
        "        return 0  # TODO fix"
      ],
      "metadata": {
        "id": "UOXjXmnjtPFu"
      },
      "execution_count": null,
      "outputs": []
    }
  ]
}