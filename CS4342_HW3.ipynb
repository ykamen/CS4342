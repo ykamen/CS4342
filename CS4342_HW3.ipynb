{
  "nbformat": 4,
  "nbformat_minor": 0,
  "metadata": {
    "colab": {
      "name": "CS4342_HW3",
      "provenance": [],
      "authorship_tag": "ABX9TyPhgEDnsGl1xqbzAhV+18sc",
      "include_colab_link": true
    },
    "kernelspec": {
      "name": "python3",
      "display_name": "Python 3"
    },
    "language_info": {
      "name": "python"
    }
  },
  "cells": [
    {
      "cell_type": "markdown",
      "metadata": {
        "id": "view-in-github",
        "colab_type": "text"
      },
      "source": [
        "<a href=\"https://colab.research.google.com/github/ykamen/CS4342/blob/main/CS4342_HW3.ipynb\" target=\"_parent\"><img src=\"https://colab.research.google.com/assets/colab-badge.svg\" alt=\"Open In Colab\"/></a>"
      ]
    },
    {
      "cell_type": "code",
      "execution_count": 193,
      "metadata": {
        "id": "2ypFdzHeG26j"
      },
      "outputs": [],
      "source": [
        "import numpy as np\n",
        "import matplotlib.pyplot as plt\n",
        "import pandas as pd\n",
        "from google.colab import drive\n",
        "from google.colab import files"
      ]
    },
    {
      "cell_type": "code",
      "source": [
        "drive.mount('/content/drive')"
      ],
      "metadata": {
        "colab": {
          "base_uri": "https://localhost:8080/"
        },
        "id": "TRt0fKKeHD_m",
        "outputId": "dc5c9903-6d7f-47aa-9271-885b99b4b525"
      },
      "execution_count": 194,
      "outputs": [
        {
          "output_type": "stream",
          "name": "stdout",
          "text": [
            "Drive already mounted at /content/drive; to attempt to forcibly remount, call drive.mount(\"/content/drive\", force_remount=True).\n"
          ]
        }
      ]
    },
    {
      "cell_type": "code",
      "source": [
        "tr_labels = np.load('drive/MyDrive/fashion_mnist_train_labels.npy', 'r')\n",
        "tr_images = np.load('drive/MyDrive/fashion_mnist_train_images.npy', 'r') / 255.0\n",
        "te_images = np.load('drive/MyDrive/fashion_mnist_test_images.npy', 'r') / 255.0\n",
        "te_labels = np.load('drive/MyDrive/fashion_mnist_test_labels.npy', 'r')"
      ],
      "metadata": {
        "id": "qvPtHAThHKo5"
      },
      "execution_count": 195,
      "outputs": []
    },
    {
      "cell_type": "code",
      "source": [
        "def append1s(imgs):\n",
        "  rowof1s = np.ones((imgs.shape[0],1))\n",
        "  Xtilde = np.hstack((imgs,rowof1s))\n",
        "  return Xtilde\n",
        "\n",
        "def initws(imgs,n_ws):\n",
        "  w = np.zeros((imgs.shape[1],n_ws))\n",
        "  for i in range(n_ws):\n",
        "    wi = 1e-5 * np.random.randn(imgs.shape[1])\n",
        "    w[:,i] = wi\n",
        "  return w\n",
        "\n",
        "def softmax(xtilde,ws):\n",
        "  Z = xtilde.dot(ws)\n",
        "  yhat = np.exp(Z)\n",
        "  for i in range(Z.shape[0]):\n",
        "    temp = np.sum(yhat[i],axis=0)\n",
        "    yhat[i] = yhat[i]/temp\n",
        "  return yhat\n",
        "\n",
        "def onehot(labels):\n",
        "  n_values = np.max(labels) + 1\n",
        "  onehotys = np.eye(n_values)[labels]\n",
        "  return onehotys\n",
        "\n",
        "def SGD(trImages, trLabels, epsilon, batchSize, n_ws, alpha=.01):\n",
        "  a = trLabels.shape[0] / batchSize\n",
        "  xtilde = append1s(trImages)\n",
        "  xt = xtilde.T\n",
        "  wtilde = initws(xtilde, n_ws)\n",
        "#  for i in range(10):\n",
        "  indeces = np.arange(trLabels.shape[0])\n",
        "  np.random.shuffle(indeces)\n",
        "  y = onehot(trLabels)\n",
        "  ind = np.split(indeces,a)\n",
        "  for i in range(int(a)):\n",
        "    yhat0 = softmax(xtilde,wtilde)\n",
        "    batchyhat = yhat0[ind[i]]\n",
        "    batchy = y[ind[i]]\n",
        "    batchx = xt[:,ind[i]]\n",
        "    tempgrad = (batchx.dot(batchyhat-batchy))/batchSize\n",
        "    l2w = wtilde\n",
        "    l2w[-1] = 0\n",
        "    fingrad = epsilon*(tempgrad + alpha*l2w/batchSize)\n",
        "    wtilde = wtilde - fingrad\n",
        "    if (i >= (int(a)-20)):\n",
        "      wt = wtilde.T\n",
        "      temp1 = np.sum(batchy*np.log(batchyhat))/(-batchSize)\n",
        "      temp2 = np.sum(wt.dot(l2w))*alpha/(2*batchSize)\n",
        "      print(f\"Loss at batch {i+1} is {temp1-temp2}\")\n",
        "  return wtilde\n",
        "\n",
        "def plotw(w):\n",
        "  fin = w[:-1]\n",
        "  return plt.imshow(fin.reshape(28,28))\n",
        "\n",
        "def pc(ws, teIm, teLa):\n",
        "  a = softmax(teIm,ws)\n",
        "  c = 0\n",
        "  for i in range(teIm.shape[0]):\n",
        "    if np.argmax(a[i]) == teLa[i]:\n",
        "      c = c+1\n",
        "  return c/teIm.shape[0]"
      ],
      "metadata": {
        "id": "aBMPJ3FDHfos"
      },
      "execution_count": 196,
      "outputs": []
    },
    {
      "cell_type": "code",
      "source": [
        "w = SGD(tr_images,tr_labels,.1,100,10)"
      ],
      "metadata": {
        "colab": {
          "base_uri": "https://localhost:8080/"
        },
        "id": "SPCeWuivdaHL",
        "outputId": "2a94b0de-390e-468b-e884-12d23f816af7"
      },
      "execution_count": 197,
      "outputs": [
        {
          "output_type": "stream",
          "name": "stdout",
          "text": [
            "Loss at batch 581 is 0.5308490279704817\n",
            "Loss at batch 582 is 0.5445608674069773\n",
            "Loss at batch 583 is 0.46141836730793184\n",
            "Loss at batch 584 is 0.4935063853244678\n",
            "Loss at batch 585 is 0.515461799699338\n",
            "Loss at batch 586 is 0.4284822263812743\n",
            "Loss at batch 587 is 0.6068943466967928\n",
            "Loss at batch 588 is 0.6389917280339387\n",
            "Loss at batch 589 is 0.6402212923202105\n",
            "Loss at batch 590 is 0.4881106252801048\n",
            "Loss at batch 591 is 0.48669773618211243\n",
            "Loss at batch 592 is 0.6114705173950878\n",
            "Loss at batch 593 is 0.5591002061016606\n",
            "Loss at batch 594 is 0.7283128677159356\n",
            "Loss at batch 595 is 0.44982246713492646\n",
            "Loss at batch 596 is 0.574376210941493\n",
            "Loss at batch 597 is 0.587599440197663\n",
            "Loss at batch 598 is 0.6201960584350487\n",
            "Loss at batch 599 is 0.48288352162648135\n",
            "Loss at batch 600 is 0.5486512918517309\n"
          ]
        }
      ]
    },
    {
      "cell_type": "code",
      "source": [
        "plotw(w[:,0])"
      ],
      "metadata": {
        "colab": {
          "base_uri": "https://localhost:8080/",
          "height": 282
        },
        "id": "PZnS_q9m484B",
        "outputId": "f5ff8abb-d579-40e6-fc65-1bb4e7632240"
      },
      "execution_count": 198,
      "outputs": [
        {
          "output_type": "execute_result",
          "data": {
            "text/plain": [
              "<matplotlib.image.AxesImage at 0x7fba66e2d450>"
            ]
          },
          "metadata": {},
          "execution_count": 198
        },
        {
          "output_type": "display_data",
          "data": {
            "text/plain": [
              "<Figure size 432x288 with 1 Axes>"
            ],
            "image/png": "[encoded data removed]"
          },
          "metadata": {
            "needs_background": "light"
          }
        }
      ]
    },
    {
      "cell_type": "code",
      "source": [
        "plotw(w[:,1])"
      ],
      "metadata": {
        "colab": {
          "base_uri": "https://localhost:8080/",
          "height": 282
        },
        "id": "5nx1LvCd3Qy-",
        "outputId": "08ddc259-746d-47b9-dfbe-4daba35e1eff"
      },
      "execution_count": 199,
      "outputs": [
        {
          "output_type": "execute_result",
          "data": {
            "text/plain": [
              "<matplotlib.image.AxesImage at 0x7fba66e06f10>"
            ]
          },
          "metadata": {},
          "execution_count": 199
        },
        {
          "output_type": "display_data",
          "data": {
            "text/plain": [
              "<Figure size 432x288 with 1 Axes>"
            ],
            "image/png": "[encoded data removed]"
          },
          "metadata": {
            "needs_background": "light"
          }
        }
      ]
    },
    {
      "cell_type": "code",
      "source": [
        "plotw(w[:,2])"
      ],
      "metadata": {
        "colab": {
          "base_uri": "https://localhost:8080/",
          "height": 282
        },
        "id": "8MaoteQs3TIO",
        "outputId": "57f92005-465d-4e45-e6ff-7a02b962d6d5"
      },
      "execution_count": 200,
      "outputs": [
        {
          "output_type": "execute_result",
          "data": {
            "text/plain": [
              "<matplotlib.image.AxesImage at 0x7fba673cbe50>"
            ]
          },
          "metadata": {},
          "execution_count": 200
        },
        {
          "output_type": "display_data",
          "data": {
            "text/plain": [
              "<Figure size 432x288 with 1 Axes>"
            ],
            "image/png": "[encoded data removed]"
          },
          "metadata": {
            "needs_background": "light"
          }
        }
      ]
    },
    {
      "cell_type": "code",
      "source": [
        "plotw(w[:,3])"
      ],
      "metadata": {
        "colab": {
          "base_uri": "https://localhost:8080/",
          "height": 282
        },
        "id": "w2mTo-Ff3ViU",
        "outputId": "f5af621b-f21c-46ea-be2b-4bff3e24185f"
      },
      "execution_count": 201,
      "outputs": [
        {
          "output_type": "execute_result",
          "data": {
            "text/plain": [
              "<matplotlib.image.AxesImage at 0x7fba670fcc10>"
            ]
          },
          "metadata": {},
          "execution_count": 201
        },
        {
          "output_type": "display_data",
          "data": {
            "text/plain": [
              "<Figure size 432x288 with 1 Axes>"
            ],
            "image/png": "[encoded data removed]"
          },
          "metadata": {
            "needs_background": "light"
          }
        }
      ]
    },
    {
      "cell_type": "code",
      "source": [
        "plotw(w[:,4])"
      ],
      "metadata": {
        "colab": {
          "base_uri": "https://localhost:8080/",
          "height": 282
        },
        "id": "oRena2ah3amV",
        "outputId": "c1658b15-882b-40d2-a832-e9c0f20cecc6"
      },
      "execution_count": 202,
      "outputs": [
        {
          "output_type": "execute_result",
          "data": {
            "text/plain": [
              "<matplotlib.image.AxesImage at 0x7fba66fb4d10>"
            ]
          },
          "metadata": {},
          "execution_count": 202
        },
        {
          "output_type": "display_data",
          "data": {
            "text/plain": [
              "<Figure size 432x288 with 1 Axes>"
            ],
            "image/png": "[encoded data removed]"
          },
          "metadata": {
            "needs_background": "light"
          }
        }
      ]
    },
    {
      "cell_type": "code",
      "source": [
        "plotw(w[:,5])"
      ],
      "metadata": {
        "colab": {
          "base_uri": "https://localhost:8080/",
          "height": 282
        },
        "id": "AImDkZN83c4U",
        "outputId": "6b0bbba4-0549-452c-cd1e-93a69e4c2955"
      },
      "execution_count": 203,
      "outputs": [
        {
          "output_type": "execute_result",
          "data": {
            "text/plain": [
              "<matplotlib.image.AxesImage at 0x7fba66d4d790>"
            ]
          },
          "metadata": {},
          "execution_count": 203
        },
        {
          "output_type": "display_data",
          "data": {
            "text/plain": [
              "<Figure size 432x288 with 1 Axes>"
            ],
            "image/png": "[encoded data removed]"
          },
          "metadata": {
            "needs_background": "light"
          }
        }
      ]
    },
    {
      "cell_type": "code",
      "source": [
        "plotw(w[:,6])"
      ],
      "metadata": {
        "colab": {
          "base_uri": "https://localhost:8080/",
          "height": 282
        },
        "id": "-qVIPeYB3fKe",
        "outputId": "fbcee70f-2785-4d89-9492-113c5e04eab6"
      },
      "execution_count": 204,
      "outputs": [
        {
          "output_type": "execute_result",
          "data": {
            "text/plain": [
              "<matplotlib.image.AxesImage at 0x7fba66cabd90>"
            ]
          },
          "metadata": {},
          "execution_count": 204
        },
        {
          "output_type": "display_data",
          "data": {
            "text/plain": [
              "<Figure size 432x288 with 1 Axes>"
            ],
            "image/png": "[encoded data removed]"
          },
          "metadata": {
            "needs_background": "light"
          }
        }
      ]
    },
    {
      "cell_type": "code",
      "source": [
        "plotw(w[:,7])"
      ],
      "metadata": {
        "colab": {
          "base_uri": "https://localhost:8080/",
          "height": 282
        },
        "id": "JYnZk_SI3hJ6",
        "outputId": "09bfb1ad-a8c1-4c6f-eefc-b51082e41e85"
      },
      "execution_count": 205,
      "outputs": [
        {
          "output_type": "execute_result",
          "data": {
            "text/plain": [
              "<matplotlib.image.AxesImage at 0x7fba66c173d0>"
            ]
          },
          "metadata": {},
          "execution_count": 205
        },
        {
          "output_type": "display_data",
          "data": {
            "text/plain": [
              "<Figure size 432x288 with 1 Axes>"
            ],
            "image/png": "[encoded data removed]"
          },
          "metadata": {
            "needs_background": "light"
          }
        }
      ]
    },
    {
      "cell_type": "code",
      "source": [
        "plotw(w[:,8])"
      ],
      "metadata": {
        "colab": {
          "base_uri": "https://localhost:8080/",
          "height": 282
        },
        "id": "del3qY4W3iqD",
        "outputId": "3525c4a0-cd5f-4fb7-9549-72f1b41d12fa"
      },
      "execution_count": 206,
      "outputs": [
        {
          "output_type": "execute_result",
          "data": {
            "text/plain": [
              "<matplotlib.image.AxesImage at 0x7fba66bfc9d0>"
            ]
          },
          "metadata": {},
          "execution_count": 206
        },
        {
          "output_type": "display_data",
          "data": {
            "text/plain": [
              "<Figure size 432x288 with 1 Axes>"
            ],
            "image/png": "[encoded data removed]"
          },
          "metadata": {
            "needs_background": "light"
          }
        }
      ]
    },
    {
      "cell_type": "code",
      "source": [
        "plotw(w[:,9])"
      ],
      "metadata": {
        "colab": {
          "base_uri": "https://localhost:8080/",
          "height": 282
        },
        "id": "xcF2wx-Z3kwb",
        "outputId": "5c7cb1bc-d61c-4e0f-9ea1-bbebd9f499b1"
      },
      "execution_count": 207,
      "outputs": [
        {
          "output_type": "execute_result",
          "data": {
            "text/plain": [
              "<matplotlib.image.AxesImage at 0x7fba66b61fd0>"
            ]
          },
          "metadata": {},
          "execution_count": 207
        },
        {
          "output_type": "display_data",
          "data": {
            "text/plain": [
              "<Figure size 432x288 with 1 Axes>"
            ],
            "image/png": "[encoded data removed]"
          },
          "metadata": {
            "needs_background": "light"
          }
        }
      ]
    },
    {
      "cell_type": "code",
      "source": [
        "pc(w,append1s(te_images),te_labels)"
      ],
      "metadata": {
        "colab": {
          "base_uri": "https://localhost:8080/"
        },
        "id": "6DVXJQjdLIIp",
        "outputId": "9af03dea-8689-497c-cd20-005fbcf62e51"
      },
      "execution_count": 208,
      "outputs": [
        {
          "output_type": "execute_result",
          "data": {
            "text/plain": [
              "0.8108"
            ]
          },
          "metadata": {},
          "execution_count": 208
        }
      ]
    },
    {
      "cell_type": "markdown",
      "source": [
        "## Problem 2. Solving the titanic dataset"
      ],
      "metadata": {
        "id": "OQ3YpZXqVpn6"
      }
    },
    {
      "cell_type": "code",
      "source": [
        "data = pd.read_csv(r'drive/MyDrive/tit_train.csv', on_bad_lines='skip')\n",
        "tr_tit = pd.DataFrame(data, columns= ['Survived','Pclass','Sex','SibSp'])\n",
        "tr_tit.replace(['female','male'],[1,0],inplace=True)\n",
        "data = pd.read_csv(r'drive/MyDrive/tit_test.csv', on_bad_lines='skip')\n",
        "te_tit = pd.DataFrame(data, columns= ['PassengerId','Pclass','Sex','SibSp'])\n",
        "te_tit.replace(['female','male'],[1,0],inplace=True)"
      ],
      "metadata": {
        "id": "vqJV_rXzVwMi"
      },
      "execution_count": 209,
      "outputs": []
    },
    {
      "cell_type": "code",
      "source": [
        "print(te_tit)"
      ],
      "metadata": {
        "colab": {
          "base_uri": "https://localhost:8080/"
        },
        "id": "SngASkcckZmp",
        "outputId": "bc6982af-13de-4864-9361-a79f14b8c6f6"
      },
      "execution_count": 210,
      "outputs": [
        {
          "output_type": "stream",
          "name": "stdout",
          "text": [
            "     PassengerId  Pclass  Sex  SibSp\n",
            "0            892       3    0      0\n",
            "1            893       3    1      1\n",
            "2            894       2    0      0\n",
            "3            895       3    0      0\n",
            "4            896       3    1      1\n",
            "..           ...     ...  ...    ...\n",
            "413         1305       3    0      0\n",
            "414         1306       1    1      0\n",
            "415         1307       3    0      0\n",
            "416         1308       3    0      0\n",
            "417         1309       3    0      1\n",
            "\n",
            "[418 rows x 4 columns]\n"
          ]
        }
      ]
    },
    {
      "cell_type": "code",
      "source": [
        "print(tr_tit)"
      ],
      "metadata": {
        "colab": {
          "base_uri": "https://localhost:8080/"
        },
        "id": "K2D9fQuCSLn-",
        "outputId": "370d79aa-78ad-4152-e34c-8a355d66ae63"
      },
      "execution_count": 211,
      "outputs": [
        {
          "output_type": "stream",
          "name": "stdout",
          "text": [
            "     Survived  Pclass  Sex  SibSp\n",
            "0           0       3    0      1\n",
            "1           1       1    1      1\n",
            "2           1       3    1      0\n",
            "3           1       1    1      1\n",
            "4           0       3    0      0\n",
            "..        ...     ...  ...    ...\n",
            "886         0       2    0      0\n",
            "887         1       1    1      0\n",
            "888         0       3    1      1\n",
            "889         1       1    0      0\n",
            "890         0       3    0      0\n",
            "\n",
            "[891 rows x 4 columns]\n"
          ]
        }
      ]
    },
    {
      "cell_type": "code",
      "source": [
        "tit_xtilde = tr_tit[['Pclass','Sex','SibSp']].to_numpy(copy=True)"
      ],
      "metadata": {
        "id": "X6O6RuSaVn5S"
      },
      "execution_count": 114,
      "outputs": []
    },
    {
      "cell_type": "code",
      "source": [
        "te_tit_x = te_tit[['Pclass','Sex','SibSp']].to_numpy(copy=True)"
      ],
      "metadata": {
        "id": "OCUqbWfwld-c"
      },
      "execution_count": 150,
      "outputs": []
    },
    {
      "cell_type": "code",
      "source": [
        "tit_y = tr_tit['Survived'].to_numpy(copy=True)"
      ],
      "metadata": {
        "id": "v7YPpiEIWxem"
      },
      "execution_count": 140,
      "outputs": []
    },
    {
      "cell_type": "code",
      "source": [
        "te_tit_id = te_tit['PassengerId'].to_numpy(copy=True)"
      ],
      "metadata": {
        "id": "ohjg8fLAlktC"
      },
      "execution_count": 151,
      "outputs": []
    },
    {
      "cell_type": "code",
      "source": [
        "# doesn't have append1s\n",
        "def SGD2(trImages, trLabels, epsilon, batchSize, n_ws, alpha=.01):\n",
        "  a = trLabels.shape[0] / batchSize\n",
        "  xtilde = trImages\n",
        "  xt = xtilde.T\n",
        "  wtilde = initws(xtilde, n_ws)\n",
        "#  for i in range(10):\n",
        "  indeces = np.arange(trLabels.shape[0])\n",
        "  np.random.shuffle(indeces)\n",
        "  y = onehot(trLabels)\n",
        "  ind = np.split(indeces,a)\n",
        "  for i in range(int(a)):\n",
        "    yhat0 = softmax(xtilde,wtilde)\n",
        "    batchyhat = yhat0[ind[i]]\n",
        "    batchy = y[ind[i]]\n",
        "    batchx = xt[:,ind[i]]\n",
        "    tempgrad = (batchx.dot(batchyhat-batchy))/batchSize\n",
        "    fingrad = epsilon*(tempgrad + alpha*wtilde/batchSize)\n",
        "    wtilde = wtilde - fingrad\n",
        "  return wtilde\n",
        "\n",
        "#larger deviation\n",
        "def initws2(imgs,n_decisions):\n",
        "  w = np.zeros((imgs.shape[1],n_decisions))\n",
        "  for i in range(n_decisions):\n",
        "    wi = 1e-2 * np.random.randn(imgs.shape[1])\n",
        "    w[:,i] = wi\n",
        "  return w\n",
        "\n",
        "#create final csv. I tried to transform all the final values to int\n",
        "#but it keeps exporting it into csv as float with e. I just changed\n",
        "# it by hand in the excel file.\n",
        "# Also was too lazy to add the column with names.\n",
        "def tit_csv(ws, tit_test, id):\n",
        "  temp = np.zeros(id.shape[0])\n",
        "  fin_csv = np.vstack((id, temp)).T\n",
        "  a = softmax(tit_test, ws)\n",
        "  for i in range(tit_test.shape[0]):\n",
        "    fin_csv[i,1] = np.argmax(a[i])\n",
        "  int_fin = fin_csv.astype(int)\n",
        "  np.savetxt(\"tit_fin.csv\", int_fin, delimiter=\",\")\n",
        "  files.download(\"tit_fin.csv\")\n",
        "  pass"
      ],
      "metadata": {
        "id": "BobCJ8ZJcS5w"
      },
      "execution_count": 190,
      "outputs": []
    },
    {
      "cell_type": "code",
      "source": [
        "tit_wfinal = SGD2(tit_xtilde,tit_y,.1,27,2)"
      ],
      "metadata": {
        "id": "G-VfYnqEbqA1"
      },
      "execution_count": 142,
      "outputs": []
    },
    {
      "cell_type": "code",
      "source": [
        "tit_csv(tit_wfinal,te_tit_x,te_tit_id)"
      ],
      "metadata": {
        "colab": {
          "base_uri": "https://localhost:8080/",
          "height": 17
        },
        "id": "hVVnRX6NmymN",
        "outputId": "d6fe346a-bcb6-4738-b320-7440a1cd3ad4"
      },
      "execution_count": 192,
      "outputs": [
        {
          "output_type": "display_data",
          "data": {
            "text/plain": [
              "<IPython.core.display.Javascript object>"
            ],
            "application/javascript": [
              "\n",
              "    async function download(id, filename, size) {\n",
              "      if (!google.colab.kernel.accessAllowed) {\n",
              "        return;\n",
              "      }\n",
              "      const div = document.createElement('div');\n",
              "      const label = document.createElement('label');\n",
              "      label.textContent = `Downloading \"${filename}\": `;\n",
              "      div.appendChild(label);\n",
              "      const progress = document.createElement('progress');\n",
              "      progress.max = size;\n",
              "      div.appendChild(progress);\n",
              "      document.body.appendChild(div);\n",
              "\n",
              "      const buffers = [];\n",
              "      let downloaded = 0;\n",
              "\n",
              "      const channel = await google.colab.kernel.comms.open(id);\n",
              "      // Send a message to notify the kernel that we're ready.\n",
              "      channel.send({})\n",
              "\n",
              "      for await (const message of channel.messages) {\n",
              "        // Send a message to notify the kernel that we're ready.\n",
              "        channel.send({})\n",
              "        if (message.buffers) {\n",
              "          for (const buffer of message.buffers) {\n",
              "            buffers.push(buffer);\n",
              "            downloaded += buffer.byteLength;\n",
              "            progress.value = downloaded;\n",
              "          }\n",
              "        }\n",
              "      }\n",
              "      const blob = new Blob(buffers, {type: 'application/binary'});\n",
              "      const a = document.createElement('a');\n",
              "      a.href = window.URL.createObjectURL(blob);\n",
              "      a.download = filename;\n",
              "      div.appendChild(a);\n",
              "      a.click();\n",
              "      div.remove();\n",
              "    }\n",
              "  "
            ]
          },
          "metadata": {}
        },
        {
          "output_type": "display_data",
          "data": {
            "text/plain": [
              "<IPython.core.display.Javascript object>"
            ],
            "application/javascript": [
              "download(\"download_b2ddd799-c8fc-4242-97fc-69bc6cfbb662\", \"tit_fin.csv\", 20900)"
            ]
          },
          "metadata": {}
        }
      ]
    }
  ]
}