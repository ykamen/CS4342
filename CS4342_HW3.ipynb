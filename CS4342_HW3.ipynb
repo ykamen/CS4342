{
  "nbformat": 4,
  "nbformat_minor": 0,
  "metadata": {
    "colab": {
      "name": "CS4342_HW3",
      "provenance": [],
      "authorship_tag": "ABX9TyOVrtGmRLObTPeF18/4qgg3",
      "include_colab_link": true
    },
    "kernelspec": {
      "name": "python3",
      "display_name": "Python 3"
    },
    "language_info": {
      "name": "python"
    }
  },
  "cells": [
    {
      "cell_type": "markdown",
      "metadata": {
        "id": "view-in-github",
        "colab_type": "text"
      },
      "source": [
        "<a href=\"https://colab.research.google.com/github/ykamen/CS4342/blob/main/CS4342_HW3.ipynb\" target=\"_parent\"><img src=\"https://colab.research.google.com/assets/colab-badge.svg\" alt=\"Open In Colab\"/></a>"
      ]
    },
    {
      "cell_type": "code",
      "execution_count": null,
      "metadata": {
        "id": "2ypFdzHeG26j"
      },
      "outputs": [],
      "source": [
        "import numpy as np\n",
        "import matplotlib.pyplot as plt\n",
        "from google.colab import drive"
      ]
    },
    {
      "cell_type": "code",
      "source": [
        "drive.mount('/content/drive')"
      ],
      "metadata": {
        "colab": {
          "base_uri": "https://localhost:8080/"
        },
        "id": "TRt0fKKeHD_m",
        "outputId": "8344b122-aa74-4220-88d4-d561debf8a4a"
      },
      "execution_count": null,
      "outputs": [
        {
          "output_type": "stream",
          "name": "stdout",
          "text": [
            "Mounted at /content/drive\n"
          ]
        }
      ]
    },
    {
      "cell_type": "code",
      "source": [
        "tr_labels = np.load('drive/MyDrive/fashion_mnist_train_labels.npy', 'r')\n",
        "tr_images = np.load('drive/MyDrive/fashion_mnist_train_images.npy', 'r')"
      ],
      "metadata": {
        "id": "qvPtHAThHKo5"
      },
      "execution_count": null,
      "outputs": []
    },
    {
      "cell_type": "code",
      "source": [
        "def append1s(imgs):\n",
        "  rowof1s = np.ones((imgs.shape[0],1))\n",
        "  Xtilde = np.hstack((imgs,rowof1s))\n",
        "  return Xtilde\n",
        "\n",
        "def p13(x,k):\n",
        "  return np.tile(x,(k,1))\n",
        "\n",
        "def initws(imgs):\n",
        "  w = np.zeros((imgs.shape[1],10))\n",
        "  for i in range(10):\n",
        "    wi = 1e-5 * np.random.randn(imgs.shape[1])\n",
        "    w[:,i] = wi\n",
        "  return w\n",
        "\n",
        "def softmax(xtilde,ws):\n",
        "  Z = xtilde.dot(ws)\n",
        "  yhat = np.exp(Z)\n",
        "  for i in range(Z.shape[0]):\n",
        "    temp = np.sum(yhat[i])\n",
        "    yhat[i] = yhat[i]/temp\n",
        "  return yhat\n",
        "\n",
        "def onehot(labels):\n",
        "  n_values = np.max(labels) + 1\n",
        "  onehotys = np.eye(n_values)[labels]\n",
        "  return onehotys\n",
        "\n",
        "def SGD(trImages, trLabels, epsilon, batchSize, alpha=.01):\n",
        "  xtilde = append1s(trImages)\n",
        "  xt = xtilde.T\n",
        "  ws = initws(xtilde)\n",
        "  yhat0 = softmax(xtilde,ws)\n",
        "  y = onehot(trLabels)\n",
        "  for i in range(1,int(trImages.shape[0]/batchSize+1)):\n",
        "    batchyhat = yhat0[:(i*batchSize)]\n",
        "    batchy = y[:(i*batchSize)]\n",
        "    batchx = xt[:,(i*batchSize)]\n",
        "    tempgrad = batchx.dot(batchyhat-batchy)/batchSize\n",
        "    fingrad = epsilon*(tempgrad+alpha*batchyhat/batchSize)\n",
        "    wtilde = yhat0 - fingrad\n",
        "  return wtilde\n"
      ],
      "metadata": {
        "id": "aBMPJ3FDHfos"
      },
      "execution_count": null,
      "outputs": []
    },
    {
      "cell_type": "code",
      "source": [
        "SGD(tr_images,tr_labels,.003,100)"
      ],
      "metadata": {
        "colab": {
          "base_uri": "https://localhost:8080/",
          "height": 288
        },
        "id": "PZnS_q9m484B",
        "outputId": "3923768a-fce5-4f86-ce16-f1db06772566"
      },
      "execution_count": null,
      "outputs": [
        {
          "output_type": "error",
          "ename": "ValueError",
          "evalue": "ignored",
          "traceback": [
            "\u001b[0;31m---------------------------------------------------------------------------\u001b[0m",
            "\u001b[0;31mValueError\u001b[0m                                Traceback (most recent call last)",
            "\u001b[0;32m<ipython-input-70-8e2f3d7c0b53>\u001b[0m in \u001b[0;36m<module>\u001b[0;34m()\u001b[0m\n\u001b[0;32m----> 1\u001b[0;31m \u001b[0mSGD\u001b[0m\u001b[0;34m(\u001b[0m\u001b[0mtr_images\u001b[0m\u001b[0;34m,\u001b[0m\u001b[0mtr_labels\u001b[0m\u001b[0;34m,\u001b[0m\u001b[0;36m.003\u001b[0m\u001b[0;34m,\u001b[0m\u001b[0;36m100\u001b[0m\u001b[0;34m)\u001b[0m\u001b[0;34m\u001b[0m\u001b[0;34m\u001b[0m\u001b[0m\n\u001b[0m",
            "\u001b[0;32m<ipython-input-69-1d03a1231a20>\u001b[0m in \u001b[0;36mSGD\u001b[0;34m(trImages, trLabels, epsilon, batchSize, alpha)\u001b[0m\n\u001b[1;32m     37\u001b[0m     \u001b[0mbatchy\u001b[0m \u001b[0;34m=\u001b[0m \u001b[0my\u001b[0m\u001b[0;34m[\u001b[0m\u001b[0;34m:\u001b[0m\u001b[0;34m(\u001b[0m\u001b[0mi\u001b[0m\u001b[0;34m*\u001b[0m\u001b[0mbatchSize\u001b[0m\u001b[0;34m)\u001b[0m\u001b[0;34m]\u001b[0m\u001b[0;34m\u001b[0m\u001b[0;34m\u001b[0m\u001b[0m\n\u001b[1;32m     38\u001b[0m     \u001b[0mbatchx\u001b[0m \u001b[0;34m=\u001b[0m \u001b[0mxt\u001b[0m\u001b[0;34m[\u001b[0m\u001b[0;34m:\u001b[0m\u001b[0;34m,\u001b[0m\u001b[0;34m(\u001b[0m\u001b[0mi\u001b[0m\u001b[0;34m*\u001b[0m\u001b[0mbatchSize\u001b[0m\u001b[0;34m)\u001b[0m\u001b[0;34m]\u001b[0m\u001b[0;34m\u001b[0m\u001b[0;34m\u001b[0m\u001b[0m\n\u001b[0;32m---> 39\u001b[0;31m     \u001b[0mtempgrad\u001b[0m \u001b[0;34m=\u001b[0m \u001b[0;34m(\u001b[0m\u001b[0;36m1\u001b[0m\u001b[0;34m/\u001b[0m\u001b[0mbatchSize\u001b[0m\u001b[0;34m)\u001b[0m\u001b[0;34m*\u001b[0m\u001b[0mbatchx\u001b[0m\u001b[0;34m.\u001b[0m\u001b[0mdot\u001b[0m\u001b[0;34m(\u001b[0m\u001b[0mbatchyhat\u001b[0m\u001b[0;34m-\u001b[0m\u001b[0mbatchy\u001b[0m\u001b[0;34m)\u001b[0m\u001b[0;34m\u001b[0m\u001b[0;34m\u001b[0m\u001b[0m\n\u001b[0m\u001b[1;32m     40\u001b[0m     \u001b[0mfingrad\u001b[0m \u001b[0;34m=\u001b[0m \u001b[0mepsilon\u001b[0m\u001b[0;34m*\u001b[0m\u001b[0;34m(\u001b[0m\u001b[0mtempgrad\u001b[0m\u001b[0;34m+\u001b[0m\u001b[0malpha\u001b[0m\u001b[0;34m*\u001b[0m\u001b[0mbatchyhat\u001b[0m\u001b[0;34m/\u001b[0m\u001b[0mbatchSize\u001b[0m\u001b[0;34m)\u001b[0m\u001b[0;34m\u001b[0m\u001b[0;34m\u001b[0m\u001b[0m\n\u001b[1;32m     41\u001b[0m     \u001b[0mwtilde\u001b[0m \u001b[0;34m=\u001b[0m \u001b[0myhat0\u001b[0m \u001b[0;34m-\u001b[0m \u001b[0mfingrad\u001b[0m\u001b[0;34m\u001b[0m\u001b[0;34m\u001b[0m\u001b[0m\n",
            "\u001b[0;31mValueError\u001b[0m: shapes (785,) and (100,10) not aligned: 785 (dim 0) != 100 (dim 0)"
          ]
        }
      ]
    }
  ]
}