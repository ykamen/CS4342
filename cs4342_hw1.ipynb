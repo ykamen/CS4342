{
  "nbformat": 4,
  "nbformat_minor": 0,
  "metadata": {
    "colab": {
      "name": "cs4342_hw1.ipynb",
      "provenance": [],
      "collapsed_sections": [],
      "authorship_tag": "ABX9TyO+eTQkfJ8KDN7UgSjspJwL",
      "include_colab_link": true
    },
    "kernelspec": {
      "name": "python3",
      "display_name": "Python 3"
    },
    "language_info": {
      "name": "python"
    }
  },
  "cells": [
    {
      "cell_type": "markdown",
      "metadata": {
        "id": "view-in-github",
        "colab_type": "text"
      },
      "source": [
        "<a href=\"https://colab.research.google.com/github/ykamen/CS4342/blob/main/cs4342_hw1.ipynb\" target=\"_parent\"><img src=\"https://colab.research.google.com/assets/colab-badge.svg\" alt=\"Open In Colab\"/></a>"
      ]
    },
    {
      "cell_type": "code",
      "execution_count": 2,
      "metadata": {
        "colab": {
          "base_uri": "https://localhost:8080/"
        },
        "id": "QuktTD93cSJr",
        "outputId": "c930bd82-47e1-4da8-b705-0f566897a679"
      },
      "outputs": [
        {
          "output_type": "stream",
          "name": "stdout",
          "text": [
            "Python 3.7.12\n"
          ]
        }
      ],
      "source": [
        "!python --version"
      ]
    },
    {
      "cell_type": "code",
      "source": [
        "import numpy as np"
      ],
      "metadata": {
        "id": "x-ish-QAc6-4"
      },
      "execution_count": 3,
      "outputs": []
    },
    {
      "cell_type": "markdown",
      "source": [
        "#Part 1"
      ],
      "metadata": {
        "id": "qbhViqLwczd3"
      }
    },
    {
      "cell_type": "markdown",
      "source": [
        "Problem 1"
      ],
      "metadata": {
        "id": "EuZk9UMXlDGI"
      }
    },
    {
      "cell_type": "code",
      "source": [
        "def p1(A,B):\n",
        "  if A.shape != B.shape:\n",
        "    print(f\"Can't add two matrices of different sizes; size matrix1: {A.shape}, size matrix2: {B.shape}\\n\")\n",
        "    return\n",
        "  C = A+B\n",
        "  matrix = np.array(C)\n",
        "  print(f\"{matrix}\\n\")"
      ],
      "metadata": {
        "id": "_VjBdN0ncfm-"
      },
      "execution_count": null,
      "outputs": []
    },
    {
      "cell_type": "code",
      "source": [
        "A = np.array([[1,2],[2,2]])\n",
        "B = np.array([[3,2],[2,2]])\n",
        "p1(A,B)\n",
        "\n",
        "C = np.array([[3,2],[2,2],[1,1]])\n",
        "p1(A,C)"
      ],
      "metadata": {
        "colab": {
          "base_uri": "https://localhost:8080/"
        },
        "id": "mUKSrx8AiL0A",
        "outputId": "efe0aa4a-1787-4121-dc80-8c8fc777cbe4"
      },
      "execution_count": null,
      "outputs": [
        {
          "output_type": "stream",
          "name": "stdout",
          "text": [
            "[[4 4]\n",
            " [4 4]]\n",
            "\n",
            "Can't add two matrices of different sizes; size matrix1: (2, 2), size matrix2: (3, 2)\n",
            "\n"
          ]
        }
      ]
    },
    {
      "cell_type": "markdown",
      "source": [
        "Problem 2"
      ],
      "metadata": {
        "id": "KkuOqiQulMVa"
      }
    },
    {
      "cell_type": "code",
      "source": [
        "def p2(A,B,C):\n",
        "  temp = np.dot(A,B)\n",
        "  fin = temp - C\n",
        "  return fin"
      ],
      "metadata": {
        "id": "Y-RopscAlNnL"
      },
      "execution_count": null,
      "outputs": []
    },
    {
      "cell_type": "code",
      "source": [
        "A = np.array([[1,2],[2,2]])\n",
        "B = np.array([[3,2],[2,2]])\n",
        "print(np.dot(A,B))\n",
        "C = np.array([[3,4],[1,1]])\n",
        "p2(A,B,C)"
      ],
      "metadata": {
        "colab": {
          "base_uri": "https://localhost:8080/"
        },
        "id": "yab2KiRUoqbO",
        "outputId": "2115d9d8-54f7-4c74-ad24-fa0fbabd4a9a"
      },
      "execution_count": null,
      "outputs": [
        {
          "output_type": "stream",
          "name": "stdout",
          "text": [
            "[[ 7  6]\n",
            " [10  8]]\n"
          ]
        },
        {
          "output_type": "execute_result",
          "data": {
            "text/plain": [
              "array([[4, 2],\n",
              "       [9, 7]])"
            ]
          },
          "metadata": {},
          "execution_count": 57
        }
      ]
    },
    {
      "cell_type": "markdown",
      "source": [
        "Problem 3"
      ],
      "metadata": {
        "id": "1Ouo1wwvpWfG"
      }
    },
    {
      "cell_type": "code",
      "source": [
        "def p3(A,B,C):\n",
        "  temp = A*B\n",
        "  temp2 = C.transpose()\n",
        "  fin = temp + temp2\n",
        "  return fin"
      ],
      "metadata": {
        "id": "Bvnp6L0SpXcQ"
      },
      "execution_count": null,
      "outputs": []
    },
    {
      "cell_type": "code",
      "source": [
        "A = np.array([[1,2],[2,2]])\n",
        "B = np.array([[3,2],[2,2]])\n",
        "print(A*B)\n",
        "C = np.array([[3,4],[1,1]])\n",
        "p3(A,B,C)"
      ],
      "metadata": {
        "colab": {
          "base_uri": "https://localhost:8080/"
        },
        "id": "iMSc64EHqJL4",
        "outputId": "60d2ffc7-5bd9-433d-e367-950419880a5c"
      },
      "execution_count": null,
      "outputs": [
        {
          "output_type": "stream",
          "name": "stdout",
          "text": [
            "[[3 4]\n",
            " [4 4]]\n"
          ]
        },
        {
          "output_type": "execute_result",
          "data": {
            "text/plain": [
              "array([[6, 5],\n",
              "       [8, 5]])"
            ]
          },
          "metadata": {},
          "execution_count": 55
        }
      ]
    },
    {
      "cell_type": "markdown",
      "source": [
        "Problem 4"
      ],
      "metadata": {
        "id": "lmrrC6fZq3Jx"
      }
    },
    {
      "cell_type": "code",
      "source": [
        "def p4(x,S,y):\n",
        "  temp = x.transpose()\n",
        "  temp2 = temp.dot(S)\n",
        "  fin = temp2.dot(y)\n",
        "  return fin"
      ],
      "metadata": {
        "id": "eEM3DqZbq4FY"
      },
      "execution_count": null,
      "outputs": []
    },
    {
      "cell_type": "code",
      "source": [
        "A = np.array([[1],[2]])\n",
        "B = np.array([[3,2],[2,2]])\n",
        "C = np.array([[3],[1]])\n",
        "p4(A,B,C)"
      ],
      "metadata": {
        "colab": {
          "base_uri": "https://localhost:8080/"
        },
        "id": "wEM3JL6trxqr",
        "outputId": "c83754e6-cf25-4ad9-d572-da862d3260f8"
      },
      "execution_count": null,
      "outputs": [
        {
          "output_type": "execute_result",
          "data": {
            "text/plain": [
              "array([[27]])"
            ]
          },
          "metadata": {},
          "execution_count": 59
        }
      ]
    },
    {
      "cell_type": "markdown",
      "source": [
        "Problem 5"
      ],
      "metadata": {
        "id": "qJSUJgGBtE2I"
      }
    },
    {
      "cell_type": "code",
      "source": [
        "def p5(A):\n",
        "  fin = np.ones(np.shape(A)[0])\n",
        "  return fin"
      ],
      "metadata": {
        "id": "8luDoEzItGSd"
      },
      "execution_count": null,
      "outputs": []
    },
    {
      "cell_type": "code",
      "source": [
        "A = np.array([[4,2],[4,1],[1,1]])\n",
        "p5(A)"
      ],
      "metadata": {
        "colab": {
          "base_uri": "https://localhost:8080/"
        },
        "id": "aVfu1DZCvwbN",
        "outputId": "47aadb3e-cf19-49e3-e33c-3874986b8232"
      },
      "execution_count": null,
      "outputs": [
        {
          "output_type": "execute_result",
          "data": {
            "text/plain": [
              "array([1., 1., 1.])"
            ]
          },
          "metadata": {},
          "execution_count": 79
        }
      ]
    },
    {
      "cell_type": "markdown",
      "source": [
        "Problem 6"
      ],
      "metadata": {
        "id": "q1BimY9xxim8"
      }
    },
    {
      "cell_type": "code",
      "source": [
        "def p6(A):\n",
        "  temp = min(np.shape(A)[0], np.shape(A)[1])\n",
        "  for i in range(temp):\n",
        "    A[i][i] = 0\n",
        "  return A"
      ],
      "metadata": {
        "id": "EHLKm2nDxjeq"
      },
      "execution_count": null,
      "outputs": []
    },
    {
      "cell_type": "code",
      "source": [
        "A = np.array([[4,2],[4,1],[1,1]])\n",
        "p6(A)\n",
        "B = np.array([[4,2,4,2],[4,1,1,1]])\n",
        "p6(B)"
      ],
      "metadata": {
        "colab": {
          "base_uri": "https://localhost:8080/"
        },
        "id": "-kqswQzVyADJ",
        "outputId": "331edf53-59c2-4501-c208-3b36daba6221"
      },
      "execution_count": null,
      "outputs": [
        {
          "output_type": "execute_result",
          "data": {
            "text/plain": [
              "array([[0, 2, 4, 2],\n",
              "       [4, 0, 1, 1]])"
            ]
          },
          "metadata": {},
          "execution_count": 89
        }
      ]
    },
    {
      "cell_type": "markdown",
      "source": [
        "Problem 7"
      ],
      "metadata": {
        "id": "PHdSvxGS1CjG"
      }
    },
    {
      "cell_type": "code",
      "source": [
        "def p7(A,a):\n",
        "  temp = np.eye(A.shape[0])\n",
        "  fin = A + a*temp\n",
        "  return fin"
      ],
      "metadata": {
        "id": "QAql4D9n1Dsv"
      },
      "execution_count": null,
      "outputs": []
    },
    {
      "cell_type": "code",
      "source": [
        "A = np.array([[4,2],[4,1]])\n",
        "a = 3\n",
        "p7(A,a)"
      ],
      "metadata": {
        "colab": {
          "base_uri": "https://localhost:8080/"
        },
        "id": "uT0XzvLK1Xc-",
        "outputId": "8a2a5165-a65d-431c-9a0d-ee04ad942c86"
      },
      "execution_count": null,
      "outputs": [
        {
          "output_type": "execute_result",
          "data": {
            "text/plain": [
              "array([[7., 2.],\n",
              "       [4., 4.]])"
            ]
          },
          "metadata": {},
          "execution_count": 91
        }
      ]
    },
    {
      "cell_type": "markdown",
      "source": [
        "Problem 8"
      ],
      "metadata": {
        "id": "dlPpeUTg1fhQ"
      }
    },
    {
      "cell_type": "code",
      "source": [
        "def p8(A,i,j):\n",
        "  return A[j-1][i-1]\n",
        "#since we enumerate matrices properly (without starting at 0) included the i-1\n",
        "#if you didn't want us to do that, specify in the instructions next time please"
      ],
      "metadata": {
        "id": "MvJMnhKZ1gY_"
      },
      "execution_count": null,
      "outputs": []
    },
    {
      "cell_type": "code",
      "source": [
        "A = np.array([[3,2],[4,1]])\n",
        "p8(A,1,2)"
      ],
      "metadata": {
        "colab": {
          "base_uri": "https://localhost:8080/"
        },
        "id": "4fQGAflC1w0x",
        "outputId": "76255d1f-ba3c-4a2a-8434-2f18d6a7ef0a"
      },
      "execution_count": null,
      "outputs": [
        {
          "output_type": "execute_result",
          "data": {
            "text/plain": [
              "4"
            ]
          },
          "metadata": {},
          "execution_count": 96
        }
      ]
    },
    {
      "cell_type": "markdown",
      "source": [
        "Problem 9"
      ],
      "metadata": {
        "id": "K97PTBC62Ya7"
      }
    },
    {
      "cell_type": "code",
      "source": [
        "def p9(A,i):\n",
        "  temp = A.sum(1)\n",
        "  return temp[i-1]\n",
        "#same. Ai in my understanding is Ai-1 for pc code. When I ask for row 1 sum,\n",
        "#it means sum of row 0 for pc."
      ],
      "metadata": {
        "id": "2K7a0GjP2Zx3"
      },
      "execution_count": null,
      "outputs": []
    },
    {
      "cell_type": "code",
      "source": [
        "A = np.array([[3,1,10],[4,2,4],[4,2,3],[4,3,0]])\n",
        "p9(A,1)"
      ],
      "metadata": {
        "colab": {
          "base_uri": "https://localhost:8080/"
        },
        "id": "VgGb2L1p43W3",
        "outputId": "0135d0ce-77fb-4ff7-9169-a66807a64b6c"
      },
      "execution_count": null,
      "outputs": [
        {
          "output_type": "execute_result",
          "data": {
            "text/plain": [
              "14"
            ]
          },
          "metadata": {},
          "execution_count": 102
        }
      ]
    },
    {
      "cell_type": "markdown",
      "source": [
        "Problem 10"
      ],
      "metadata": {
        "id": "LBkIUh5m5wsG"
      }
    },
    {
      "cell_type": "code",
      "source": [
        "def p10(A,c,d):\n",
        "  temp = []\n",
        "  for i in range(A.shape[0]):\n",
        "    for j in range(A.shape[1]):\n",
        "      if (A[i][j] >= c and A[i][j] <= d):\n",
        "        temp.append(A[i][j])\n",
        "  print(temp)\n",
        "  fin = sum(temp)/len(temp)\n",
        "  return fin"
      ],
      "metadata": {
        "id": "ycsG_Jff5xiB"
      },
      "execution_count": null,
      "outputs": []
    },
    {
      "cell_type": "code",
      "source": [
        "A = np.array([[3,1,10],[4,2,4],[4,2,3],[4,3,0]])\n",
        "c = 3\n",
        "d = 4\n",
        "p10(A,c,d)"
      ],
      "metadata": {
        "colab": {
          "base_uri": "https://localhost:8080/"
        },
        "id": "jqstbuAl7agA",
        "outputId": "16b3e003-b731-4d92-e9c3-4b6910dbab65"
      },
      "execution_count": null,
      "outputs": [
        {
          "output_type": "stream",
          "name": "stdout",
          "text": [
            "[3, 4, 4, 4, 3, 4, 3]\n"
          ]
        },
        {
          "output_type": "execute_result",
          "data": {
            "text/plain": [
              "3.5714285714285716"
            ]
          },
          "metadata": {},
          "execution_count": 114
        }
      ]
    },
    {
      "cell_type": "markdown",
      "source": [
        "Problem 11"
      ],
      "metadata": {
        "id": "v_wWt-1v8dG_"
      }
    },
    {
      "cell_type": "code",
      "source": [
        "def p11(A,k):\n",
        "  eigenvalues, eigenvectors = np.linalg.eig(A)\n",
        "  temp = [x for _,x in sorted(zip(eigenvalues, eigenvectors),reverse= True)]\n",
        "  fin = np.column_stack(temp[:k])\n",
        "  print(fin)\n",
        "  "
      ],
      "metadata": {
        "id": "hdcVhbb28dzi"
      },
      "execution_count": null,
      "outputs": []
    },
    {
      "cell_type": "code",
      "source": [
        "A = np.array([[3,1,10,2,5],[4,2,4,1,0],[4,2,3,11,3],[5,2,4,4,5],[1,2,5,7,8]])\n",
        "p11(A,3)"
      ],
      "metadata": {
        "colab": {
          "base_uri": "https://localhost:8080/"
        },
        "id": "KR7otxFXujX5",
        "outputId": "cb7d4135-6fa2-48c3-ea13-4a724aa8ac16"
      },
      "execution_count": null,
      "outputs": [
        {
          "output_type": "stream",
          "name": "stdout",
          "text": [
            "[[ 0.48723562+0.j          0.44449559+0.j          0.51287092+0.j        ]\n",
            " [ 0.68978076+0.j         -0.15232319-0.34149101j  0.17689608+0.1917062j ]\n",
            " [ 0.68978076-0.j         -0.15232319+0.34149101j  0.17689608-0.1917062j ]\n",
            " [-0.07117561+0.j          0.0157211 +0.j          0.552226  +0.j        ]\n",
            " [-0.13973983+0.j         -0.05697462+0.j         -0.26880486+0.j        ]]\n"
          ]
        }
      ]
    },
    {
      "cell_type": "markdown",
      "source": [
        "Problem 12"
      ],
      "metadata": {
        "id": "O-OV-5SeVnEc"
      }
    },
    {
      "cell_type": "code",
      "source": [
        "def p12(A,x):\n",
        "  temp = np.eye(A.shape[0])\n",
        "  inv = np.linalg.solve(A,temp)\n",
        "  return inv.dot(x)"
      ],
      "metadata": {
        "id": "MosN9fUMVoO2"
      },
      "execution_count": null,
      "outputs": []
    },
    {
      "cell_type": "code",
      "source": [
        "A = np.array([[3,1,10],[4,2,4],[4,2,3]])\n",
        "x = ([1,2,4])\n",
        "p12(A,x)"
      ],
      "metadata": {
        "colab": {
          "base_uri": "https://localhost:8080/"
        },
        "id": "-Jy8dEm6gMfc",
        "outputId": "119e6021-a26f-4773-90e2-86fab72b23f2"
      },
      "execution_count": null,
      "outputs": [
        {
          "output_type": "execute_result",
          "data": {
            "text/plain": [
              "array([ 16., -27.,  -2.])"
            ]
          },
          "metadata": {},
          "execution_count": 135
        }
      ]
    },
    {
      "cell_type": "markdown",
      "source": [
        "Problem 13"
      ],
      "metadata": {
        "id": "uDKMIjpc6u25"
      }
    },
    {
      "cell_type": "code",
      "source": [
        "def p13(x,k):\n",
        "  return np.tile(x,(k,1))"
      ],
      "metadata": {
        "id": "5jFAanff6vrB"
      },
      "execution_count": null,
      "outputs": []
    },
    {
      "cell_type": "code",
      "source": [
        "x = [1,2,4,5,7,8]\n",
        "k = 3\n",
        "p13(x,k)"
      ],
      "metadata": {
        "colab": {
          "base_uri": "https://localhost:8080/"
        },
        "id": "MLHRVbZY7Sc9",
        "outputId": "4a6e762a-9c70-436e-e2a7-bfcc9dc9142d"
      },
      "execution_count": null,
      "outputs": [
        {
          "output_type": "execute_result",
          "data": {
            "text/plain": [
              "array([[1, 2, 4, 5, 7, 8],\n",
              "       [1, 2, 4, 5, 7, 8],\n",
              "       [1, 2, 4, 5, 7, 8]])"
            ]
          },
          "metadata": {},
          "execution_count": 256
        }
      ]
    },
    {
      "cell_type": "markdown",
      "source": [
        "Problem 14"
      ],
      "metadata": {
        "id": "G7GuZ7bmtyrx"
      }
    },
    {
      "cell_type": "code",
      "source": [
        "def p14(A):\n",
        "  fin = A\n",
        "  for i in range(A.shape[0]):\n",
        "    fin[i] = np.random.permutation(A[i])\n",
        "  return fin"
      ],
      "metadata": {
        "id": "rm93wOl0tzrC"
      },
      "execution_count": 10,
      "outputs": []
    },
    {
      "cell_type": "code",
      "source": [
        "A = np.array([[1,2,3],[4,5,6],[7,8,9]])\n",
        "p14(A)"
      ],
      "metadata": {
        "colab": {
          "base_uri": "https://localhost:8080/"
        },
        "id": "68OBsKdx3C0k",
        "outputId": "e7bed148-36b4-4ef6-e00a-0546ec9edb21"
      },
      "execution_count": 11,
      "outputs": [
        {
          "output_type": "execute_result",
          "data": {
            "text/plain": [
              "array([[3, 1, 2],\n",
              "       [6, 4, 5],\n",
              "       [7, 9, 8]])"
            ]
          },
          "metadata": {},
          "execution_count": 11
        }
      ]
    },
    {
      "cell_type": "markdown",
      "source": [
        "#Part 2"
      ],
      "metadata": {
        "id": "C9TWlnuv36Jm"
      }
    }
  ]
}