{
  "nbformat": 4,
  "nbformat_minor": 0,
  "metadata": {
    "colab": {
      "name": "hw1part2.ipynb",
      "provenance": [],
      "collapsed_sections": [],
      "authorship_tag": "ABX9TyMczXnH6F7ScaJrLvQwZs8n",
      "include_colab_link": true
    },
    "kernelspec": {
      "name": "python3",
      "display_name": "Python 3"
    },
    "language_info": {
      "name": "python"
    }
  },
  "cells": [
    {
      "cell_type": "markdown",
      "metadata": {
        "id": "view-in-github",
        "colab_type": "text"
      },
      "source": [
        "<a href=\"https://colab.research.google.com/github/ykamen/CS4342/blob/main/hw1part2.ipynb\" target=\"_parent\"><img src=\"https://colab.research.google.com/assets/colab-badge.svg\" alt=\"Open In Colab\"/></a>"
      ]
    },
    {
      "cell_type": "code",
      "source": [
        "!python --version\n",
        "import numpy as np\n",
        "import matplotlib.patches as patches\n",
        "import matplotlib.pyplot as plt\n",
        "from sklearn.metrics import confusion_matrix\n",
        "from google.colab import drive"
      ],
      "metadata": {
        "colab": {
          "base_uri": "https://localhost:8080/"
        },
        "id": "RSqdlGFhBjmh",
        "outputId": "3fe3eacc-fdd2-4f7f-c5f8-8374712d72c6"
      },
      "execution_count": 23,
      "outputs": [
        {
          "output_type": "stream",
          "name": "stdout",
          "text": [
            "Python 3.7.12\n"
          ]
        }
      ]
    },
    {
      "cell_type": "code",
      "execution_count": 17,
      "metadata": {
        "id": "a1WmL44pBgVi"
      },
      "outputs": [],
      "source": [
        "def fPC (y, yhat):\n",
        "    A = confusion_matrix(y,yhat)\n",
        "    pc = (A[0][0] + A[1][1])/len(y)\n",
        "    return pc"
      ]
    },
    {
      "cell_type": "code",
      "source": [
        "drive.mount('/content/drive')"
      ],
      "metadata": {
        "id": "hND69fXmOQVl"
      },
      "execution_count": null,
      "outputs": []
    },
    {
      "cell_type": "code",
      "source": [
        "faces = np.load('drive/MyDrive/trainingFaces.npy', 'r')"
      ],
      "metadata": {
        "id": "45U0cvcRNp2m"
      },
      "execution_count": 27,
      "outputs": []
    },
    {
      "cell_type": "code",
      "source": [
        "y = [0,0,1,1,1,1,1,1,0,1,1,1,1,1,0,1,1,1,1,1,0,1,1,1,1,1,0,1,1,1,1,1,0,1,1,1,1,1,0,1,1,1,1,1,0,1,1,1,1,1,0,1,1,1,1,1,0,1,1,1,1,1,0,1,1,1,1]\n",
        "yhat = [1,1,0,1,1,1,1,1,0,1,1,1,1,1,0,1,1,1,1,1,0,1,1,1,1,1,0,1,1,1,1,1,0,1,1,1,1,1,0,1,1,1,1,1,0,1,1,1,1,1,0,1,1,1,1,1,0,1,1,1,1,1,0,1,1,1,1]\n",
        "fPC(y,yhat)"
      ],
      "metadata": {
        "colab": {
          "base_uri": "https://localhost:8080/"
        },
        "id": "HpldVHKwByYY",
        "outputId": "60cdb16e-c4e3-436f-954e-6fbaf749f5af"
      },
      "execution_count": 21,
      "outputs": [
        {
          "output_type": "execute_result",
          "data": {
            "text/plain": [
              "0.9552238805970149"
            ]
          },
          "metadata": {},
          "execution_count": 21
        }
      ]
    },
    {
      "cell_type": "code",
      "source": [
        "print(faces[0][575])"
      ],
      "metadata": {
        "colab": {
          "base_uri": "https://localhost:8080/"
        },
        "id": "bDdtF1rLN_m6",
        "outputId": "d95d05c2-43fa-40c3-bb7d-5a24f9863b1c"
      },
      "execution_count": 41,
      "outputs": [
        {
          "output_type": "stream",
          "name": "stdout",
          "text": [
            "-0.6677621653616024\n"
          ]
        }
      ]
    },
    {
      "cell_type": "markdown",
      "source": [
        "One predictors comparison to all other pixels"
      ],
      "metadata": {
        "id": "lvkhiRBLUcZN"
      }
    },
    {
      "cell_type": "code",
      "source": [
        "def p13(x,k):\n",
        "  return np.tile(x,(k,1))\n",
        "\n",
        "def jcomp(arr,p1):\n",
        "  vector = arr[:,p1]\n",
        "  vmaptemp = p13(vector,arr.shape[1])\n",
        "  vmap = vmaptemp.transpose()\n",
        "  return vmap > arr"
      ],
      "metadata": {
        "id": "vkAbfb9tTHcO"
      },
      "execution_count": 119,
      "outputs": []
    },
    {
      "cell_type": "code",
      "source": [
        "jcomp(faces,2)"
      ],
      "metadata": {
        "colab": {
          "base_uri": "https://localhost:8080/"
        },
        "id": "lrI6MMXyUTBL",
        "outputId": "c847612d-c489-4eb5-e90a-0be6844ba7f6"
      },
      "execution_count": 120,
      "outputs": [
        {
          "output_type": "execute_result",
          "data": {
            "text/plain": [
              "array([[False, False, False, ...,  True,  True, False],\n",
              "       [False, False, False, ...,  True, False,  True],\n",
              "       [ True,  True, False, ..., False, False, False],\n",
              "       ...,\n",
              "       [ True,  True, False, ...,  True, False,  True],\n",
              "       [ True, False, False, ...,  True,  True,  True],\n",
              "       [ True, False, False, ...,  True,  True,  True]])"
            ]
          },
          "metadata": {},
          "execution_count": 120
        }
      ]
    },
    {
      "cell_type": "code",
      "source": [
        "print(faces)"
      ],
      "metadata": {
        "colab": {
          "base_uri": "https://localhost:8080/"
        },
        "id": "Z9JGfYBahdVg",
        "outputId": "819afb30-96b4-4f54-856b-7b11baa5629c"
      },
      "execution_count": 114,
      "outputs": [
        {
          "output_type": "stream",
          "name": "stdout",
          "text": [
            "[[-0.27874693 -0.61692736 -0.86067416 ... -1.07838038 -0.91595662\n",
            "  -0.66776217]\n",
            " [-0.63853749 -0.48942235 -0.63860372 ... -0.75003974 -0.35491409\n",
            "  -1.32539541]\n",
            " [-0.68737551 -0.74619822  0.9053906  ...  1.0791425   1.99718399\n",
            "   2.04014052]\n",
            " ...\n",
            " [-0.99305176 -0.86931048 -0.05987676 ... -0.61200392  0.84946658\n",
            "  -0.14246518]\n",
            " [ 0.7667242   1.14034143  1.09812381 ... -1.70468228 -1.10556106\n",
            "  -0.67715482]\n",
            " [-0.7654332   0.88344899  0.53067434 ... -0.42550697 -0.56036467\n",
            "  -0.19055345]]\n"
          ]
        }
      ]
    }
  ]
}