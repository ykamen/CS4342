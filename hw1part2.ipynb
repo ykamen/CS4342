{
  "nbformat": 4,
  "nbformat_minor": 0,
  "metadata": {
    "colab": {
      "name": "hw1part2.ipynb",
      "provenance": [],
      "collapsed_sections": [],
      "authorship_tag": "ABX9TyMFy9RLZbWE7AIIKDrZEbl1",
      "include_colab_link": true
    },
    "kernelspec": {
      "name": "python3",
      "display_name": "Python 3"
    },
    "language_info": {
      "name": "python"
    },
    "accelerator": "GPU"
  },
  "cells": [
    {
      "cell_type": "markdown",
      "metadata": {
        "id": "view-in-github",
        "colab_type": "text"
      },
      "source": [
        "<a href=\"https://colab.research.google.com/github/ykamen/CS4342/blob/main/hw1part2.ipynb\" target=\"_parent\"><img src=\"https://colab.research.google.com/assets/colab-badge.svg\" alt=\"Open In Colab\"/></a>"
      ]
    },
    {
      "cell_type": "code",
      "source": [
        "!python --version\n",
        "import numpy as np\n",
        "import matplotlib.patches as patches\n",
        "import matplotlib.pyplot as plt\n",
        "from sklearn.metrics import confusion_matrix\n",
        "from google.colab import drive"
      ],
      "metadata": {
        "colab": {
          "base_uri": "https://localhost:8080/"
        },
        "id": "RSqdlGFhBjmh",
        "outputId": "9a31dd5c-23d8-441d-b15f-04789636da4c"
      },
      "execution_count": 2,
      "outputs": [
        {
          "output_type": "stream",
          "name": "stdout",
          "text": [
            "Python 3.7.13\n"
          ]
        }
      ]
    },
    {
      "cell_type": "code",
      "source": [
        "drive.mount('/content/drive')"
      ],
      "metadata": {
        "colab": {
          "base_uri": "https://localhost:8080/"
        },
        "id": "hND69fXmOQVl",
        "outputId": "82566bd7-8e60-4181-fb16-10d6751db7ee"
      },
      "execution_count": 3,
      "outputs": [
        {
          "output_type": "stream",
          "name": "stdout",
          "text": [
            "Mounted at /content/drive\n"
          ]
        }
      ]
    },
    {
      "cell_type": "code",
      "source": [
        "faces = np.load('drive/MyDrive/trainingFaces.npy', 'r')\n",
        "labels = np.load('drive/MyDrive/trainingLabels.npy', 'r')"
      ],
      "metadata": {
        "id": "45U0cvcRNp2m"
      },
      "execution_count": 4,
      "outputs": []
    },
    {
      "cell_type": "code",
      "source": [
        "fPC(labels, jMap(faces,7)[:,9])"
      ],
      "metadata": {
        "colab": {
          "base_uri": "https://localhost:8080/"
        },
        "id": "HpldVHKwByYY",
        "outputId": "21e4053c-37d2-4d25-e832-f789dd5fc2a9"
      },
      "execution_count": 5,
      "outputs": [
        {
          "output_type": "execute_result",
          "data": {
            "text/plain": [
              "0.4705"
            ]
          },
          "metadata": {},
          "execution_count": 5
        }
      ]
    },
    {
      "cell_type": "code",
      "source": [
        "print(faces[0][575])"
      ],
      "metadata": {
        "colab": {
          "base_uri": "https://localhost:8080/"
        },
        "id": "bDdtF1rLN_m6",
        "outputId": "e9926027-5d73-48c2-a1c5-64acff0dc2d1"
      },
      "execution_count": 6,
      "outputs": [
        {
          "output_type": "stream",
          "name": "stdout",
          "text": [
            "-0.6677621653616024\n"
          ]
        }
      ]
    },
    {
      "cell_type": "markdown",
      "source": [
        "One predictors comparison to all other pixels"
      ],
      "metadata": {
        "id": "lvkhiRBLUcZN"
      }
    },
    {
      "cell_type": "code",
      "source": [
        "def p13(x,k):\n",
        "  return np.tile(x,(k,1))\n",
        "\n",
        "def allMap(trset):\n",
        "  map = jMap(trset,0)\n",
        "  for i in range(1, trset.shape[1]):\n",
        "    a = jMap(trset,i)\n",
        "    map = np.dstack((map,a))\n",
        "  return map\n",
        "\n",
        "def jMap(trset,p1):\n",
        "  vector = trset[:,p1]\n",
        "  vmaptemp = p13(vector,trset.shape[1])\n",
        "  vmap = vmaptemp.T\n",
        "  return vmap > trset\n",
        "#returns matrix showing the result of comparing pixel 1 to every other pixel\n",
        "#across all available images. jmap\n",
        "\n",
        "def fPC (y, yhat):\n",
        "  return np.mean(y == yhat)\n",
        "\n",
        "def bestJ(jmap,y):\n",
        "  pc = 0\n",
        "  pos = 0\n",
        "  for i in range(jmap.shape[1]):\n",
        "    temp = fPC(y, jmap[:,i])\n",
        "    if(temp > pc):\n",
        "      pc = temp\n",
        "      pos = i\n",
        "  return pc, pos\n",
        "#returns the best predictor in one family of matrices e.g. best p1 > p2 \n",
        "#for a single p1.\n",
        "\n",
        "def bestFirstJ(trset,y):\n",
        "  pc = 0\n",
        "  p1 = 0\n",
        "  p2 = 0\n",
        "  for i in range(trset.shape[1]):\n",
        "    temp_pc, temp_p2 = bestJ(jMap(trset,i),y)\n",
        "    if(temp_pc > pc):\n",
        "      pc = temp_pc\n",
        "      p2 = temp_p2\n",
        "      p1 = i\n",
        "  return jMap(trset,p1)[:,p2]\n",
        "#returns true/false values array\n",
        "\n",
        "def jsAcc(y,js):\n",
        "  c = 0\n",
        "  for i in range(js.shape[0]):\n",
        "    if (np.mean(js[i]) <= .5 and y[i]== False):\n",
        "      c+=1\n",
        "    elif (np.mean(js[i]) > .5 and y[i]== True):\n",
        "      c+=1\n",
        "  return c/y.shape[0]\n",
        "\n",
        "def findNextJ(map,js,y):\n",
        "  pc = 0\n",
        "  f_p1 = 0\n",
        "  f_p2 = 0\n",
        "  for p1 in range(map.shape[1]):\n",
        "    for p2 in range(map.shape[1]):\n",
        "      a = np.column_stack((map[:,p2,p1],js))\n",
        "      temp_pc = jsAcc(y,a)\n",
        "      print(temp_pc)\n",
        "      if (temp_pc>pc):\n",
        "        pc = temp_pc\n",
        "        f_p1 = p1\n",
        "        f_p2 = p2\n",
        "  return temp_pc,f_p1,f_p2\n",
        "\n",
        "def stepwiseRegression(trF, trL, teF, teL):\n",
        "  j = bestFirstJ(trF,trL)\n",
        "  map = allMap(trF)\n",
        "  for i in range(5):\n",
        "    pc,p1,p2 = findNextJ(map,j,trL)\n",
        "    j = np.column_stack((map[:,p2,p1],j))\n",
        "  return j\n",
        "\n",
        "#10 images took 24 minutes. and this is Friday 10:27PM. I am sorry but I won't\n",
        "#be doing the n step 200. I will just leave the code here\n",
        "\n",
        "def nAnalysis(trF,trL,teF,teL):\n",
        "  print(\"n-images | training Accuracy | testing Accuracy\")\n",
        "  for n in range(400,2200,200):\n",
        "    predictor = stepwiseRegression(trF[:n],trL[:n],teF[:n],teL[:n])\n",
        "    print(\"%d | %d | %d\" % (n, jsAcc(trL,predictor), jsAcc(teL,predictor)))\n",
        "  return"
      ],
      "metadata": {
        "id": "vkAbfb9tTHcO"
      },
      "execution_count": 176,
      "outputs": []
    },
    {
      "cell_type": "code",
      "source": [
        ""
      ],
      "metadata": {
        "colab": {
          "base_uri": "https://localhost:8080/",
          "height": 312
        },
        "id": "uuRx7hHnzF58",
        "outputId": "ca92950f-735c-4044-c471-4324c65f092b"
      },
      "execution_count": 177,
      "outputs": [
        {
          "output_type": "error",
          "ename": "IndexError",
          "evalue": "ignored",
          "traceback": [
            "\u001b[0;31m---------------------------------------------------------------------------\u001b[0m",
            "\u001b[0;31mIndexError\u001b[0m                                Traceback (most recent call last)",
            "\u001b[0;32m<ipython-input-177-a9f42c0a2b20>\u001b[0m in \u001b[0;36m<module>\u001b[0;34m()\u001b[0m\n\u001b[0;32m----> 1\u001b[0;31m \u001b[0mstepwiseRegression2\u001b[0m\u001b[0;34m(\u001b[0m\u001b[0mfaces\u001b[0m\u001b[0;34m,\u001b[0m\u001b[0mlabels\u001b[0m\u001b[0;34m,\u001b[0m\u001b[0mfaces\u001b[0m\u001b[0;34m,\u001b[0m\u001b[0mlabels\u001b[0m\u001b[0;34m)\u001b[0m\u001b[0;34m\u001b[0m\u001b[0;34m\u001b[0m\u001b[0m\n\u001b[0m",
            "\u001b[0;32m<ipython-input-176-fd4909cb2e10>\u001b[0m in \u001b[0;36mstepwiseRegression2\u001b[0;34m(trainingFaces, trainingLabels, testingFaces, testingLabels)\u001b[0m\n\u001b[1;32m     91\u001b[0m     \u001b[0;32mif\u001b[0m \u001b[0mshow\u001b[0m\u001b[0;34m:\u001b[0m\u001b[0;34m\u001b[0m\u001b[0;34m\u001b[0m\u001b[0m\n\u001b[1;32m     92\u001b[0m         \u001b[0;31m# Show an arbitrary test image in grayscale\u001b[0m\u001b[0;34m\u001b[0m\u001b[0;34m\u001b[0m\u001b[0;34m\u001b[0m\u001b[0m\n\u001b[0;32m---> 93\u001b[0;31m         \u001b[0mim\u001b[0m \u001b[0;34m=\u001b[0m \u001b[0mtestingFaces\u001b[0m\u001b[0;34m[\u001b[0m\u001b[0;36m0\u001b[0m\u001b[0;34m,\u001b[0m\u001b[0;34m:\u001b[0m\u001b[0;34m,\u001b[0m\u001b[0;34m:\u001b[0m\u001b[0;34m]\u001b[0m\u001b[0;34m\u001b[0m\u001b[0;34m\u001b[0m\u001b[0m\n\u001b[0m\u001b[1;32m     94\u001b[0m         \u001b[0mfig\u001b[0m\u001b[0;34m,\u001b[0m\u001b[0max\u001b[0m \u001b[0;34m=\u001b[0m \u001b[0mplt\u001b[0m\u001b[0;34m.\u001b[0m\u001b[0msubplots\u001b[0m\u001b[0;34m(\u001b[0m\u001b[0;36m1\u001b[0m\u001b[0;34m)\u001b[0m\u001b[0;34m\u001b[0m\u001b[0;34m\u001b[0m\u001b[0m\n\u001b[1;32m     95\u001b[0m         \u001b[0max\u001b[0m\u001b[0;34m.\u001b[0m\u001b[0mimshow\u001b[0m\u001b[0;34m(\u001b[0m\u001b[0mim\u001b[0m\u001b[0;34m,\u001b[0m \u001b[0mcmap\u001b[0m\u001b[0;34m=\u001b[0m\u001b[0;34m'gray'\u001b[0m\u001b[0;34m)\u001b[0m\u001b[0;34m\u001b[0m\u001b[0;34m\u001b[0m\u001b[0m\n",
            "\u001b[0;32m/usr/local/lib/python3.7/dist-packages/numpy/core/memmap.py\u001b[0m in \u001b[0;36m__getitem__\u001b[0;34m(self, index)\u001b[0m\n\u001b[1;32m    332\u001b[0m \u001b[0;34m\u001b[0m\u001b[0m\n\u001b[1;32m    333\u001b[0m     \u001b[0;32mdef\u001b[0m \u001b[0m__getitem__\u001b[0m\u001b[0;34m(\u001b[0m\u001b[0mself\u001b[0m\u001b[0;34m,\u001b[0m \u001b[0mindex\u001b[0m\u001b[0;34m)\u001b[0m\u001b[0;34m:\u001b[0m\u001b[0;34m\u001b[0m\u001b[0;34m\u001b[0m\u001b[0m\n\u001b[0;32m--> 334\u001b[0;31m         \u001b[0mres\u001b[0m \u001b[0;34m=\u001b[0m \u001b[0msuper\u001b[0m\u001b[0;34m(\u001b[0m\u001b[0;34m)\u001b[0m\u001b[0;34m.\u001b[0m\u001b[0m__getitem__\u001b[0m\u001b[0;34m(\u001b[0m\u001b[0mindex\u001b[0m\u001b[0;34m)\u001b[0m\u001b[0;34m\u001b[0m\u001b[0;34m\u001b[0m\u001b[0m\n\u001b[0m\u001b[1;32m    335\u001b[0m         \u001b[0;32mif\u001b[0m \u001b[0mtype\u001b[0m\u001b[0;34m(\u001b[0m\u001b[0mres\u001b[0m\u001b[0;34m)\u001b[0m \u001b[0;32mis\u001b[0m \u001b[0mmemmap\u001b[0m \u001b[0;32mand\u001b[0m \u001b[0mres\u001b[0m\u001b[0;34m.\u001b[0m\u001b[0m_mmap\u001b[0m \u001b[0;32mis\u001b[0m \u001b[0;32mNone\u001b[0m\u001b[0;34m:\u001b[0m\u001b[0;34m\u001b[0m\u001b[0;34m\u001b[0m\u001b[0m\n\u001b[1;32m    336\u001b[0m             \u001b[0;32mreturn\u001b[0m \u001b[0mres\u001b[0m\u001b[0;34m.\u001b[0m\u001b[0mview\u001b[0m\u001b[0;34m(\u001b[0m\u001b[0mtype\u001b[0m\u001b[0;34m=\u001b[0m\u001b[0mndarray\u001b[0m\u001b[0;34m)\u001b[0m\u001b[0;34m\u001b[0m\u001b[0;34m\u001b[0m\u001b[0m\n",
            "\u001b[0;31mIndexError\u001b[0m: too many indices for array: array is 2-dimensional, but 3 were indexed"
          ]
        }
      ]
    }
  ]
}