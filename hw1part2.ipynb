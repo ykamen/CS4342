{
  "nbformat": 4,
  "nbformat_minor": 0,
  "metadata": {
    "colab": {
      "name": "hw1part2.ipynb",
      "provenance": [],
      "collapsed_sections": [],
      "authorship_tag": "ABX9TyNrf816wDX4VvtSZRwKpmOa",
      "include_colab_link": true
    },
    "kernelspec": {
      "name": "python3",
      "display_name": "Python 3"
    },
    "language_info": {
      "name": "python"
    },
    "accelerator": "GPU"
  },
  "cells": [
    {
      "cell_type": "markdown",
      "metadata": {
        "id": "view-in-github",
        "colab_type": "text"
      },
      "source": [
        "<a href=\"https://colab.research.google.com/github/ykamen/CS4342/blob/main/hw1part2.ipynb\" target=\"_parent\"><img src=\"https://colab.research.google.com/assets/colab-badge.svg\" alt=\"Open In Colab\"/></a>"
      ]
    },
    {
      "cell_type": "code",
      "source": [
        "!python --version\n",
        "import numpy as np\n",
        "import matplotlib.patches as patches\n",
        "import matplotlib.pyplot as plt\n",
        "from sklearn.metrics import confusion_matrix\n",
        "from google.colab import drive"
      ],
      "metadata": {
        "colab": {
          "base_uri": "https://localhost:8080/"
        },
        "id": "RSqdlGFhBjmh",
        "outputId": "f81efa66-3fcb-4b8f-911f-c1ed9479a2c2"
      },
      "execution_count": 2,
      "outputs": [
        {
          "output_type": "stream",
          "name": "stdout",
          "text": [
            "Python 3.7.13\n"
          ]
        }
      ]
    },
    {
      "cell_type": "code",
      "source": [
        "drive.mount('/content/drive')"
      ],
      "metadata": {
        "colab": {
          "base_uri": "https://localhost:8080/"
        },
        "id": "hND69fXmOQVl",
        "outputId": "617ec34e-d5e0-44c6-e9de-3f5039f52e8a"
      },
      "execution_count": 4,
      "outputs": [
        {
          "output_type": "stream",
          "name": "stdout",
          "text": [
            "Drive already mounted at /content/drive; to attempt to forcibly remount, call drive.mount(\"/content/drive\", force_remount=True).\n"
          ]
        }
      ]
    },
    {
      "cell_type": "code",
      "source": [
        "faces = np.load('drive/MyDrive/trainingFaces.npy', 'r')\n",
        "labels = np.load('drive/MyDrive/trainingLabels.npy', 'r')"
      ],
      "metadata": {
        "id": "45U0cvcRNp2m"
      },
      "execution_count": 5,
      "outputs": []
    },
    {
      "cell_type": "code",
      "source": [
        "fPC(labels, jMap(faces,7)[:,9])"
      ],
      "metadata": {
        "colab": {
          "base_uri": "https://localhost:8080/"
        },
        "id": "HpldVHKwByYY",
        "outputId": "ee91841e-b554-4c5f-8df5-2b1a4a4aa694"
      },
      "execution_count": 8,
      "outputs": [
        {
          "output_type": "execute_result",
          "data": {
            "text/plain": [
              "0.4705"
            ]
          },
          "metadata": {},
          "execution_count": 8
        }
      ]
    },
    {
      "cell_type": "code",
      "source": [
        "print(faces[0][575])"
      ],
      "metadata": {
        "colab": {
          "base_uri": "https://localhost:8080/"
        },
        "id": "bDdtF1rLN_m6",
        "outputId": "d07bbaec-ac32-4bc3-e865-f7b31c25124f"
      },
      "execution_count": 9,
      "outputs": [
        {
          "output_type": "stream",
          "name": "stdout",
          "text": [
            "-0.6677621653616024\n"
          ]
        }
      ]
    },
    {
      "cell_type": "markdown",
      "source": [
        "One predictors comparison to all other pixels"
      ],
      "metadata": {
        "id": "lvkhiRBLUcZN"
      }
    },
    {
      "cell_type": "code",
      "source": [
        "def p13(x,k):\n",
        "  return np.tile(x,(k,1))\n",
        "\n",
        "def jMap(trset,p1):\n",
        "  vector = trset[:,p1]\n",
        "  vmaptemp = p13(vector,trset.shape[1])\n",
        "  vmap = vmaptemp.T\n",
        "  return vmap > trset\n",
        "#returns matrix showing the result of comparing pixel 1 to every other pixel\n",
        "#across all available images. jmap\n",
        "\n",
        "def fPC (y, yhat):\n",
        "  return np.mean(y == yhat)\n",
        "\n",
        "def bestJ(jmap,y):\n",
        "  pc = 0\n",
        "  pos = 0\n",
        "  for i in range(jmap.shape[1]):\n",
        "    temp = fPC(y, jmap[:,i])\n",
        "    if(temp > pc):\n",
        "      pc = temp\n",
        "      pos = i\n",
        "  return pc, pos\n",
        "#returns the best predictor in one family of matrices e.g. best p1 > p2 \n",
        "#for a single p1.\n",
        "\n",
        "def bestFirstJ(trset,y):\n",
        "  pc = 0\n",
        "  p1 = 0\n",
        "  p2 = 0\n",
        "  for i in range(trset.shape[1]):\n",
        "    temp_pc, temp_p2 = bestJ(jMap(trset,i),y)\n",
        "    if(temp_pc > pc):\n",
        "      pc = temp_pc\n",
        "      p2 = temp_p2\n",
        "      p1 = i\n",
        "  return jMap(trset,p1)[:,p2]\n",
        "#returns true/false values array\n",
        "\n",
        "def jsAcc(y,js):\n",
        "  c = 0\n",
        "  a = np.average(js,axis=1)\n",
        "  for i in range(y.shape[0]):\n",
        "    if (a[i] <= .5 and y[i]== False):\n",
        "      c+=1\n",
        "    elif (a[i] > .5 and y[i]== True):\n",
        "      c+=1\n",
        "  return c/y.shape[0]\n",
        "\n",
        "def bestJS(jmap,js,y):\n",
        "  pc = 0\n",
        "  p2 = 0\n",
        "  for i in range(jmap.shape[1]):\n",
        "    temp_js = np.stack((jmap[:,i],js),axis=1)\n",
        "    temp = jsAcc(y,temp_js)\n",
        "    if (temp>pc):\n",
        "      pc = temp\n",
        "      p2 = i\n",
        "  return pc, p2\n",
        "\n",
        "def bestNextJ(trset,js,y):\n",
        "  pc = 0                                                                #starting acc. has to be at least current acc.\n",
        "  p1 = 0\n",
        "  p2 = 0\n",
        "  for i in range(trset.shape[1]):                                                 #for all possible p1 values\n",
        "    temp_pc, temp_p2 = bestJS(jMap(trset,i),js,y)\n",
        "    if(temp_pc>pc):\n",
        "      pc = temp_pc\n",
        "      p2 = temp_p2\n",
        "      p1 = i\n",
        "  return jMap(trset,p1)[:,p2]"
      ],
      "metadata": {
        "id": "vkAbfb9tTHcO"
      },
      "execution_count": 16,
      "outputs": []
    },
    {
      "cell_type": "code",
      "source": [
        "bestNextJ(faces,bestFirstJ(faces,labels),labels)"
      ],
      "metadata": {
        "colab": {
          "base_uri": "https://localhost:8080/"
        },
        "id": "uuRx7hHnzF58",
        "outputId": "b37857d5-062b-4c08-e720-3989fe9bec73"
      },
      "execution_count": 17,
      "outputs": [
        {
          "output_type": "execute_result",
          "data": {
            "text/plain": [
              "array([ True,  True,  True, ...,  True,  True,  True])"
            ]
          },
          "metadata": {},
          "execution_count": 17
        }
      ]
    }
  ]
}